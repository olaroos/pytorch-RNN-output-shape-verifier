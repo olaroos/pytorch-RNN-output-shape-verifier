{
 "cells": [
  {
   "cell_type": "code",
   "execution_count": 206,
   "metadata": {},
   "outputs": [
    {
     "data": {
      "text/plain": [
       "'\\nThis experiment shows that the correct split of the hidden-layer is the following:\\n\\noutputs, hidden = rnn.forward(inputs, hidden)\\n\\nBatch-First == True \\noutputs = outputs.view(bs,      seqlen,   ndirects, hidden_size)\\nhidden  =  hidden.view(nlayers, ndirects, bs,       hidden_size)\\n\\nBatch-First == False \\noutputs = outputs.view(seqlen,  bs,       ndirects, hidden_size)\\nhidden  =  hidden.view(nlayers, ndirects, bs,       hidden_size)\\n\\n'"
      ]
     },
     "execution_count": 206,
     "metadata": {},
     "output_type": "execute_result"
    }
   ],
   "source": [
    "import torch\n",
    "\n",
    "\"\"\"\n",
    "This experiment shows that the correct split of the hidden-layer is the following:\n",
    "\n",
    "outputs, hidden = rnn.forward(inputs, hidden)\n",
    "\n",
    "Batch-First == True \n",
    "outputs = outputs.view(bs,      seqlen,   ndirects, hidden_size)\n",
    "hidden  =  hidden.view(nlayers, ndirects, bs,       hidden_size)\n",
    "\n",
    "Batch-First == False \n",
    "outputs = outputs.view(seqlen,  bs,       ndirects, hidden_size)\n",
    "hidden  =  hidden.view(nlayers, ndirects, bs,       hidden_size)\n",
    "\n",
    "\"\"\""
   ]
  },
  {
   "cell_type": "code",
   "execution_count": 207,
   "metadata": {},
   "outputs": [],
   "source": [
    "bs, seqlen, dim, hidden_size, nlayers, ndirects = 5, 10, 20, 40, 3, 2"
   ]
  },
  {
   "cell_type": "code",
   "execution_count": 208,
   "metadata": {},
   "outputs": [
    {
     "name": "stdout",
     "output_type": "stream",
     "text": [
      "encoder_outputs.shape: torch.Size([10, 5, 80])\n",
      "gru_hidden.shape:      torch.Size([6, 5, 40])\n",
      "encoder_outputs.shape: torch.Size([10, 5, 2, 40])\n",
      "gru_hidden.shape:      torch.Size([3, 2, 5, 40])\n"
     ]
    }
   ],
   "source": [
    "\"\"\"\n",
    "verify view-split is correct for batch-first == False\n",
    "\"\"\"\n",
    "gru = nn.GRU(dim, hidden_size, num_layers=nlayers, bidirectional=(ndirects==2), batch_first=False)\n",
    "\n",
    "input = torch.ones(seqlen, bs, dim)\n",
    "hidden = torch.ones(ndirects*nlayers, bs, hidden_size)\n",
    "\n",
    "encoder_outputs, gru_hidden = gru.forward(input, hidden)\n",
    "print(\"encoder_outputs.shape: {}\".format(encoder_outputs.shape))\n",
    "print(\"gru_hidden.shape:      {}\".format(gru_hidden.shape))\n",
    "encoder_outputs = encoder_outputs.view(seqlen, bs, ndirects, hidden_size)\n",
    "gru_hidden      = gru_hidden.view(nlayers, ndirects, bs, hidden_size)\n",
    "print(\"encoder_outputs.shape: {}\".format(encoder_outputs.shape))\n",
    "print(\"gru_hidden.shape:      {}\".format(gru_hidden.shape))\n",
    "\n",
    "# assume that the forward direction is pos 0\n",
    "one = encoder_outputs[:,:,0]\n",
    "two = gru_hidden[:, 0]\n",
    "# assume that the last pos in sequence is 9\n",
    "one = one[9]\n",
    "# assume that the last layer is pos 2\n",
    "two = two[2]\n",
    "assert torch.equal(one, two)\n",
    "\n",
    "# assume that the backward direction is pos 1\n",
    "one = encoder_outputs[:,:,1]\n",
    "two = gru_hidden[:, 1]\n",
    "# assume that the last pos in sequence is 0\n",
    "one = one[0]\n",
    "# assume that the last layer is pos 2\n",
    "two = two[2]\n",
    "assert torch.equal(one, two)"
   ]
  },
  {
   "cell_type": "code",
   "execution_count": 209,
   "metadata": {},
   "outputs": [
    {
     "name": "stdout",
     "output_type": "stream",
     "text": [
      "encoder_outputs.shape: torch.Size([5, 10, 80])\n",
      "gru_hidden.shape:      torch.Size([6, 5, 40])\n",
      "encoder_outputs.shape: torch.Size([5, 10, 2, 40])\n",
      "gru_hidden.shape:      torch.Size([3, 2, 5, 40])\n"
     ]
    }
   ],
   "source": [
    "\"\"\"\n",
    "verify view-split is correct for batch-first == True\n",
    "\"\"\"\n",
    "gru = nn.GRU(dim, hidden_size, num_layers=nlayers, bidirectional=(ndirects==2), batch_first=True)\n",
    "\n",
    "input = torch.ones(bs, seqlen, dim)\n",
    "hidden = torch.ones(ndirects*nlayers, bs, hidden_size)\n",
    "\n",
    "encoder_outputs, gru_hidden = gru.forward(input, hidden)\n",
    "print(\"encoder_outputs.shape: {}\".format(encoder_outputs.shape))\n",
    "print(\"gru_hidden.shape:      {}\".format(gru_hidden.shape))\n",
    "\n",
    "encoder_outputs = encoder_outputs.view(bs, seqlen, ndirects, hidden_size)\n",
    "gru_hidden      = gru_hidden.view(nlayers, ndirects, bs, hidden_size)\n",
    "print(\"encoder_outputs.shape: {}\".format(encoder_outputs.shape))\n",
    "print(\"gru_hidden.shape:      {}\".format(gru_hidden.shape))\n",
    "\n",
    "# assume that the forward direction is pos 0\n",
    "one = encoder_outputs[:,:,0]\n",
    "two = gru_hidden[:, 0]\n",
    "# assume that the last pos in sequence is 9\n",
    "one = one[:,9]\n",
    "# assume that the last layer is pos 2\n",
    "two = two[2]\n",
    "assert torch.equal(one, two)\n",
    "\n",
    "\n",
    "# assume that the backward direction is pos 1\n",
    "one = encoder_outputs[:,:,1]\n",
    "two = gru_hidden[:, 1]\n",
    "# assume that the last pos in sequence is 0\n",
    "one = one[:,0]\n",
    "# assume that the last layer is pos 2\n",
    "two = two[2]\n",
    "assert torch.equal(one, two)"
   ]
  }
 ],
 "metadata": {
  "kernelspec": {
   "display_name": "Python 3",
   "language": "python",
   "name": "python3"
  },
  "language_info": {
   "codemirror_mode": {
    "name": "ipython",
    "version": 3
   },
   "file_extension": ".py",
   "mimetype": "text/x-python",
   "name": "python",
   "nbconvert_exporter": "python",
   "pygments_lexer": "ipython3",
   "version": "3.7.3"
  }
 },
 "nbformat": 4,
 "nbformat_minor": 2
}
